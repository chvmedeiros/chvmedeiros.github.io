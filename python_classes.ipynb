{
  "nbformat": 4,
  "nbformat_minor": 0,
  "metadata": {
    "colab": {
      "provenance": [],
      "authorship_tag": "ABX9TyPaiym+Hhtl8/w2ORGrmo3b",
      "include_colab_link": true
    },
    "kernelspec": {
      "name": "python3",
      "display_name": "Python 3"
    },
    "language_info": {
      "name": "python"
    }
  },
  "cells": [
    {
      "cell_type": "markdown",
      "metadata": {
        "id": "view-in-github",
        "colab_type": "text"
      },
      "source": [
        "<a href=\"https://colab.research.google.com/github/chvmedeiros/chvmedeiros.github.io/blob/master/python_classes.ipynb\" target=\"_parent\"><img src=\"https://colab.research.google.com/assets/colab-badge.svg\" alt=\"Open In Colab\"/></a>"
      ]
    },
    {
      "cell_type": "code",
      "execution_count": 124,
      "metadata": {
        "id": "EjLa5N0cDAW_"
      },
      "outputs": [],
      "source": [
        "class Comic():\n",
        "\n",
        "  # Construtor da classe\n",
        "  # * __init___ é o nome do método construtor\n",
        "  # * (self) é referência ao próprio atributo da classe\n",
        "  # * As variáveis opicionais devem ser inseridadas ao final da lista de parâmetros\n",
        "  # * Inserir um \"*\" antes de um parâmetro opicional torna obrigatória sua declaração\n",
        "  #   explicita na passagem de parâmetros\n",
        "\n",
        "  def __init__(self, title, number = 0, isbn = '1111111111', *, publishing = \"Marvel Comics\", recurrence = 0):\n",
        "\n",
        "    self.title = title\n",
        "    self.number = number\n",
        "    self.isbn = isbn\n",
        "    self.publishing = publishing\n",
        "    self.recurrence = recurrence\n",
        "\n",
        "  # Chamada a própria classe, ela é utilizada como uma função regular.\n",
        "  # As variáveis podem se comportam como uma variável de classe não de instância.\n",
        "\n",
        "  def __call__(self, period):\n",
        "    print(\"Foi adicionada em %s a comic %s número %d da %s com ISBN %s na biblioteca\"\n",
        "          %(period, self.title, self.number, self.publishing, self.isbn))\n",
        "    self.recurrence += 1\n",
        "\n",
        "  # Método que exibirá com que atributos o objeto foi criado\n",
        "\n",
        "  def print_title_issue(self):\n",
        "    print(\"Comic %s número %d\" %(self.title, self.number))"
      ]
    },
    {
      "cell_type": "code",
      "source": [
        "# Cria um objeto da classe Comic\n",
        "\n",
        "#comic1 = Comic('Uncanny X-men', 1)\n",
        "#comic1 = Comic('Uncanny X-men', 1, '22222222')\n",
        "#comic1 = Comic('Uncanny X-men', 1, '22222222', 'Vertigo') FAIL\n",
        "comic1 = Comic('Uncanny X-men', 1, '22222222', publishing='Vertigo')"
      ],
      "metadata": {
        "id": "HmEg38kCYkXF"
      },
      "execution_count": 131,
      "outputs": []
    },
    {
      "cell_type": "code",
      "source": [
        "type(comic1)"
      ],
      "metadata": {
        "colab": {
          "base_uri": "https://localhost:8080/"
        },
        "id": "5TQeyVeDZR1n",
        "outputId": "c110b468-0db4-4fd0-de2d-e780dd86fe6a"
      },
      "execution_count": 132,
      "outputs": [
        {
          "output_type": "execute_result",
          "data": {
            "text/plain": [
              "__main__.Comic"
            ]
          },
          "metadata": {},
          "execution_count": 132
        }
      ]
    },
    {
      "cell_type": "code",
      "source": [
        "# podemos acessar cada atributo do objeto através do nome do objeto \".\" e o nome do atributo\n",
        "print(comic1.title)"
      ],
      "metadata": {
        "colab": {
          "base_uri": "https://localhost:8080/"
        },
        "id": "tsh2UZJTZfOV",
        "outputId": "8ff4eff9-43de-4dae-edfe-3506495c0326"
      },
      "execution_count": 133,
      "outputs": [
        {
          "output_type": "stream",
          "name": "stdout",
          "text": [
            "Uncanny X-men\n"
          ]
        }
      ]
    },
    {
      "cell_type": "code",
      "source": [
        "# Utilizando um método do objeto comic1\n",
        "comic1('2021')\n",
        "comic1('2022')\n",
        "comic1('2023')\n",
        "comic1.recurrence"
      ],
      "metadata": {
        "colab": {
          "base_uri": "https://localhost:8080/"
        },
        "id": "ehcrC5ojZ4Ju",
        "outputId": "eb29f656-2009-4f04-fdb5-020b84120dc3"
      },
      "execution_count": 134,
      "outputs": [
        {
          "output_type": "stream",
          "name": "stdout",
          "text": [
            "Foi adicionada em 2021 a comic Uncanny X-men número 1 da Vertigo com ISBN 22222222 na biblioteca\n",
            "Foi adicionada em 2022 a comic Uncanny X-men número 1 da Vertigo com ISBN 22222222 na biblioteca\n",
            "Foi adicionada em 2023 a comic Uncanny X-men número 1 da Vertigo com ISBN 22222222 na biblioteca\n"
          ]
        },
        {
          "output_type": "execute_result",
          "data": {
            "text/plain": [
              "3"
            ]
          },
          "metadata": {},
          "execution_count": 134
        }
      ]
    },
    {
      "cell_type": "code",
      "source": [
        "comic1.print_title_issue()"
      ],
      "metadata": {
        "id": "U3mpREuGhp4g",
        "colab": {
          "base_uri": "https://localhost:8080/"
        },
        "outputId": "17603553-2f13-4a09-de35-ec5d8985daea"
      },
      "execution_count": 135,
      "outputs": [
        {
          "output_type": "stream",
          "name": "stdout",
          "text": [
            "Comic Uncanny X-men número 1\n"
          ]
        }
      ]
    }
  ]
}